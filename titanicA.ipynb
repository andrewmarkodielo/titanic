{
 "cells": [
  {
   "cell_type": "code",
   "execution_count": null,
   "metadata": {},
   "outputs": [],
   "source": [
    "# library imports\n",
    "import numpy as np\n",
    "import pandas as pd\n",
    "#from sklearn.linear_model import LogisticRegression\n",
    "from sklearn.ensemble import RandomForestClassifier\n",
    "from sklearn import metrics\n",
    "from copy import copy"
   ]
  },
  {
   "cell_type": "code",
   "execution_count": null,
   "metadata": {},
   "outputs": [],
   "source": [
    "# data imports\n",
    "train_original = pd.read_csv('C:/Users/Andrew Mark/Google Drive/Projects/Kaggle/titanic/train.csv')\n",
    "test_original = pd.read_csv('C:/Users/Andrew Mark/Google Drive/Projects/Kaggle/titanic/test.csv')\n",
    "answers = pd.read_csv('C:/Users/Andrew Mark/Google Drive/Projects/Kaggle/titanic/gender_submission.csv')\n",
    "\n",
    "train = train_original\n",
    "test = copy(test_original)\n",
    "\n",
    "train_original.head()"
   ]
  },
  {
   "cell_type": "code",
   "execution_count": null,
   "metadata": {},
   "outputs": [],
   "source": [
    "# add the Survived column to the test dataset\n",
    "test['Survived'] = answers['Survived'].values"
   ]
  },
  {
   "cell_type": "code",
   "execution_count": null,
   "metadata": {},
   "outputs": [],
   "source": [
    "# train dataset info\n",
    "train_original.info()"
   ]
  },
  {
   "cell_type": "code",
   "execution_count": null,
   "metadata": {},
   "outputs": [],
   "source": [
    "# check for null/empty values in train\n",
    "train_original.isnull().sum()"
   ]
  },
  {
   "cell_type": "code",
   "execution_count": null,
   "metadata": {},
   "outputs": [],
   "source": [
    "# test dataset info\n",
    "test_original.info()"
   ]
  },
  {
   "cell_type": "code",
   "execution_count": null,
   "metadata": {},
   "outputs": [],
   "source": [
    "# check for null/empty values in test\n",
    "test_original.isnull().sum()"
   ]
  },
  {
   "cell_type": "code",
   "execution_count": null,
   "metadata": {},
   "outputs": [],
   "source": [
    "# data cleansing/pre-processing\n",
    "\n",
    "# replace Embarked with mode ('S')\n",
    "train['Embarked'].fillna(train['Embarked'].mode()[0], inplace = True)\n",
    "\n",
    "# fill missing values for Age by the mean\n",
    "train['Age'].fillna(train['Age'].median(), inplace = True)\n",
    "test['Age'].fillna(test['Age'].median(), inplace = True)    \n",
    "    \n",
    "# too many rows have Cabin missing, so it might be better to drop it\n",
    "train.drop('Cabin', axis=1, inplace = True)\n",
    "test.drop('Cabin', axis=1, inplace=True)\n",
    "\n",
    "# add the 1 missing value for Fare in test dataset - using the median\n",
    "test['Fare'].fillna(test['Fare'].median(), inplace = True)\n",
    "\n",
    "# create bins for Fare\n",
    "train['NewFare'] = pd.cut(train['Fare'], 5)\n",
    "test['NewFare'] = pd.cut(train['Fare'], 5)\n",
    "\n",
    "# create bins for Age\n",
    "train['NewAge'] = pd.cut(train['Age'], 5)\n",
    "test['NewAge'] = pd.cut(test['Age'], 5)\n",
    "\n",
    "# convert bins of NewAge and NewFare to int\n",
    "train['NewAge'] = pd.get_dummies(train['NewAge'], columns = ['NewAge'], prefix=['Int'])\n",
    "test['NewAge'] = pd.get_dummies(test['NewAge'], columns = ['NewAge'], prefix=['Int'])\n",
    "\n",
    "train['NewFare'] = pd.get_dummies(train['NewFare'], columns = ['NewFare'], prefix=['Int'])\n",
    "test['NewFare'] = pd.get_dummies(test['NewFare'], columns = ['NewFare'], prefix=['Int'])\n",
    "\n",
    "# convert Embarked to int\n",
    "train['Embarked'] = train['Embarked'].map( {'S': 0, 'C': 1, 'Q': 2} ).astype(int)\n",
    "test['Embarked'] = test['Embarked'].map( {'S': 0, 'C': 1, 'Q': 2} ).astype(int)\n",
    "\n",
    "# convert Sex to int\n",
    "train['Sex'] = train['Sex'].map( {'female': 0, 'male': 1} ).astype(int)\n",
    "test['Sex'] = test['Sex'].map( {'female': 0, 'male': 1} ).astype(int)\n",
    "\n",
    "# ignoring a few columns for now, aka laziness\n",
    "columns_drop = ['PassengerId', 'Name', 'Ticket', 'SibSp', 'Parch', 'Fare', 'Age']\n",
    "train.drop(columns_drop, axis = 1, inplace = True)\n",
    "test.drop(columns_drop, axis = 1, inplace = True)\n",
    "\n",
    "# chech null counts and columns\n",
    "print('\\n\\tTrain Dataset')\n",
    "print(train.isnull().sum())\n",
    "print('\\n\\tTest Dataset')\n",
    "print(test.isnull().sum())"
   ]
  },
  {
   "cell_type": "code",
   "execution_count": null,
   "metadata": {},
   "outputs": [],
   "source": [
    "# final check \n",
    "# integer values are needed for RandomForest to work .. not sure about other algorithms\n",
    "train.head(3)"
   ]
  },
  {
   "cell_type": "code",
   "execution_count": null,
   "metadata": {},
   "outputs": [],
   "source": [
    "# separate features and labels for train and test datasets\n",
    "X_train=train[['Pclass', 'Sex', 'Embarked', 'NewFare', 'NewAge']]  # features\n",
    "y_train=train['Survived']  # labels\n",
    "\n",
    "X_test=test[['Pclass', 'Sex', 'Embarked', 'NewFare', 'NewAge']]  # features\n",
    "y_test=test['Survived']  # labels"
   ]
  },
  {
   "cell_type": "code",
   "execution_count": null,
   "metadata": {},
   "outputs": [],
   "source": [
    "# initialize and train RandomForest\n",
    "rf = RandomForestClassifier(n_estimators = 100)\n",
    "rf.fit(X_train, y_train)\n",
    "\n",
    "# predict labels of test dataset\n",
    "y_pred=rf.predict(X_test)\n",
    "\n",
    "# comparing predicted labels against real labels\n",
    "print(\"Prediction Accuracy: \", metrics.accuracy_score(y_test, y_pred))"
   ]
  },
  {
   "cell_type": "code",
   "execution_count": null,
   "metadata": {},
   "outputs": [],
   "source": [
    "submit = pd.DataFrame({'PassengerId':test_original['PassengerId'], 'Survived':y_pred})\n",
    "print(submit.head(5))\n",
    "submit.to_csv('C:/Users/Andrew Mark/Google Drive/Projects/Kaggle/submission.csv', index = False)"
   ]
  }
 ],
 "metadata": {
  "kernelspec": {
   "display_name": "Python 3",
   "language": "python",
   "name": "python3"
  },
  "language_info": {
   "codemirror_mode": {
    "name": "ipython",
    "version": 3
   },
   "file_extension": ".py",
   "mimetype": "text/x-python",
   "name": "python",
   "nbconvert_exporter": "python",
   "pygments_lexer": "ipython3",
   "version": "3.7.0"
  }
 },
 "nbformat": 4,
 "nbformat_minor": 2
}
